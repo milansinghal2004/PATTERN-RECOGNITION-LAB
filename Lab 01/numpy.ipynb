{
  "nbformat": 4,
  "nbformat_minor": 0,
  "metadata": {
    "colab": {
      "provenance": []
    },
    "kernelspec": {
      "name": "python3",
      "display_name": "Python 3"
    },
    "language_info": {
      "name": "python"
    }
  },
  "cells": [
    {
      "cell_type": "markdown",
      "source": [
        "#Array Creation"
      ],
      "metadata": {
        "id": "Xia19Aqq46kw"
      }
    },
    {
      "cell_type": "code",
      "execution_count": null,
      "metadata": {
        "id": "IPO4Uen93EOv"
      },
      "outputs": [],
      "source": [
        "import numpy as np"
      ]
    },
    {
      "cell_type": "markdown",
      "source": [
        "0-D Array"
      ],
      "metadata": {
        "id": "e4poEejO4vN1"
      }
    },
    {
      "cell_type": "code",
      "source": [
        "arr = np.array(42)\n",
        "\n",
        "print(arr)\n",
        "\n",
        "#array dimension size\n",
        "print(arr.ndim)\n",
        "\n"
      ],
      "metadata": {
        "colab": {
          "base_uri": "https://localhost:8080/"
        },
        "id": "nJw_TFlD4o98",
        "outputId": "a7f6bf09-bc4e-46da-f17f-850768ee8ee6"
      },
      "execution_count": null,
      "outputs": [
        {
          "output_type": "stream",
          "name": "stdout",
          "text": [
            "42\n",
            "0\n"
          ]
        }
      ]
    },
    {
      "cell_type": "markdown",
      "source": [
        "1-D Array"
      ],
      "metadata": {
        "id": "Qip3d7Xh5S3P"
      }
    },
    {
      "cell_type": "code",
      "source": [
        "arr = np.array([1, 2, 3, 4, 5])\n",
        "\n",
        "print(arr)\n",
        "\n",
        "#array dimension size\n",
        "print(arr.ndim)"
      ],
      "metadata": {
        "colab": {
          "base_uri": "https://localhost:8080/"
        },
        "id": "gA_P4OYY5D87",
        "outputId": "784d292c-9cdd-42d6-a8b5-8f5e5fcb4b29"
      },
      "execution_count": null,
      "outputs": [
        {
          "output_type": "stream",
          "name": "stdout",
          "text": [
            "[1 2 3 4 5]\n",
            "1\n"
          ]
        }
      ]
    },
    {
      "cell_type": "markdown",
      "source": [
        "2-D Array"
      ],
      "metadata": {
        "id": "1eSWP0MH5f8g"
      }
    },
    {
      "cell_type": "code",
      "source": [
        "arr = np.array([[1, 2, 3], [4, 5, 6]])\n",
        "\n",
        "print(arr)\n",
        "\n",
        "#array dimension size\n",
        "print(arr.ndim)"
      ],
      "metadata": {
        "colab": {
          "base_uri": "https://localhost:8080/"
        },
        "id": "VxDl2VEg5Xym",
        "outputId": "774eaf9a-00d3-4e17-b063-17bc3b4df83c"
      },
      "execution_count": null,
      "outputs": [
        {
          "output_type": "stream",
          "name": "stdout",
          "text": [
            "[[1 2 3]\n",
            " [4 5 6]]\n",
            "2\n"
          ]
        }
      ]
    },
    {
      "cell_type": "markdown",
      "source": [
        "3-D Array"
      ],
      "metadata": {
        "id": "GeVUpbf356xI"
      }
    },
    {
      "cell_type": "code",
      "source": [
        "arr = np.array([[[1, 2, 3], [4, 5, 6]], [[1, 2, 3], [4, 5, 6]]])\n",
        "\n",
        "print(arr)\n",
        "\n",
        "#array dimension size\n",
        "print(arr.ndim)"
      ],
      "metadata": {
        "colab": {
          "base_uri": "https://localhost:8080/"
        },
        "id": "I_Hold8y5jbu",
        "outputId": "7cce1d3a-abe2-4429-d90b-0a92bf76df41"
      },
      "execution_count": null,
      "outputs": [
        {
          "output_type": "stream",
          "name": "stdout",
          "text": [
            "[[[1 2 3]\n",
            "  [4 5 6]]\n",
            "\n",
            " [[1 2 3]\n",
            "  [4 5 6]]]\n",
            "3\n"
          ]
        }
      ]
    },
    {
      "cell_type": "markdown",
      "source": [
        "#Numpy Array Indexing"
      ],
      "metadata": {
        "id": "G8idLX7569CD"
      }
    },
    {
      "cell_type": "code",
      "source": [
        "# in 1-d array\n",
        "arr = np.array([1, 2, 3, 4])\n",
        "\n",
        "print(arr[1])\n",
        "\n",
        "# in 1-d array\n",
        "\n",
        "import numpy as np\n",
        "\n",
        "arr = np.array([[1,2,3,4,5], [6,7,8,9,10]])\n",
        "\n",
        "print('2nd element on 1st row: ', arr[0, 1])\n",
        "\n",
        "#in 3-d array\n",
        "\n",
        "arr = np.array([[[1, 2, 3], [4, 5, 6]], [[7, 8, 9], [10, 11, 12]]])\n",
        "\n",
        "print(arr[0, 1, 2])\n"
      ],
      "metadata": {
        "colab": {
          "base_uri": "https://localhost:8080/"
        },
        "id": "jk3R0hT85-wm",
        "outputId": "19318ce0-266c-42e5-b424-8549a63d8658"
      },
      "execution_count": null,
      "outputs": [
        {
          "output_type": "stream",
          "name": "stdout",
          "text": [
            "2\n",
            "2nd element on 1st row:  2\n",
            "6\n"
          ]
        }
      ]
    },
    {
      "cell_type": "markdown",
      "source": [
        "# Array Manipulation"
      ],
      "metadata": {
        "id": "2hpLN6pV8E3j"
      }
    },
    {
      "cell_type": "markdown",
      "source": [
        "In 1-d array\n"
      ],
      "metadata": {
        "id": "lmdYKYk38KMB"
      }
    },
    {
      "cell_type": "code",
      "source": [
        "\n",
        "# Create a 1D array\n",
        "arr = np.array([1, 2, 3, 4, 5])\n",
        "\n",
        "# Reshape to a 5x1 array (2D)\n",
        "reshaped = arr.reshape(5, 1)\n",
        "print(\"Reshaped 1D to 2D (5x1):\\n\", reshaped)\n",
        "\n",
        "# Flattening (stays the same in 1D)\n",
        "flattened = arr.flatten()\n",
        "print(\"Flattened (1D):\", flattened)\n",
        "\n",
        "# Create another 1D array for stacking\n",
        "arange_arr = np.arange(6, 11)\n",
        "\n",
        "# Stack arrays\n",
        "stacked = np.stack((arr, arange_arr[:len(arr)]))\n",
        "print(\"Stacked Array:\\n\", stacked)\n",
        "\n",
        "# Horizontal and vertical stacking\n",
        "hstacked = np.hstack((arr, arange_arr[:len(arr)]))\n",
        "vstacked = np.vstack((arr, arange_arr[:len(arr)]))\n",
        "print(\"Horizontally Stacked:\\n\", hstacked)\n",
        "print(\"Vertically Stacked:\\n\", vstacked)\n",
        "\n",
        "\n"
      ],
      "metadata": {
        "colab": {
          "base_uri": "https://localhost:8080/"
        },
        "id": "7-OR2vbL8I-B",
        "outputId": "a10ffac3-59f7-4deb-f296-00913eabf981"
      },
      "execution_count": null,
      "outputs": [
        {
          "output_type": "stream",
          "name": "stdout",
          "text": [
            "Reshaped 1D to 2D (5x1):\n",
            " [[1]\n",
            " [2]\n",
            " [3]\n",
            " [4]\n",
            " [5]]\n",
            "Flattened (1D): [1 2 3 4 5]\n",
            "Stacked Array:\n",
            " [[ 1  2  3  4  5]\n",
            " [ 6  7  8  9 10]]\n",
            "Horizontally Stacked:\n",
            " [ 1  2  3  4  5  6  7  8  9 10]\n",
            "Vertically Stacked:\n",
            " [[ 1  2  3  4  5]\n",
            " [ 6  7  8  9 10]]\n"
          ]
        }
      ]
    },
    {
      "cell_type": "markdown",
      "source": [
        "in 2-D array"
      ],
      "metadata": {
        "id": "x9WhWYEf8tf7"
      }
    },
    {
      "cell_type": "code",
      "source": [
        "# Create a 2D array\n",
        "arr_2d = np.array([[1, 2, 3], [4, 5, 6]])\n",
        "\n",
        "# Transpose the array\n",
        "transposed = arr_2d.T\n",
        "print(\"Transposed 2D Array:\\n\", transposed)\n",
        "\n",
        "# Concatenating another 2D array vertically\n",
        "arr2 = np.array([[7, 8, 9]])\n",
        "concatenated = np.concatenate((arr_2d, arr2), axis=0)\n",
        "print(\"Concatenated 2D Array (axis=0):\\n\", concatenated)"
      ],
      "metadata": {
        "colab": {
          "base_uri": "https://localhost:8080/"
        },
        "id": "X5sPFj118hZm",
        "outputId": "9b33df43-2024-493a-8619-299b42e6580e"
      },
      "execution_count": null,
      "outputs": [
        {
          "output_type": "stream",
          "name": "stdout",
          "text": [
            "Transposed 2D Array:\n",
            " [[1 4]\n",
            " [2 5]\n",
            " [3 6]]\n",
            "Concatenated 2D Array (axis=0):\n",
            " [[1 2 3]\n",
            " [4 5 6]\n",
            " [7 8 9]]\n"
          ]
        }
      ]
    },
    {
      "cell_type": "markdown",
      "source": [
        "in 3-D array"
      ],
      "metadata": {
        "id": "MsLbO3S99AJj"
      }
    },
    {
      "cell_type": "code",
      "source": [
        "# Create a 3D array\n",
        "arr_3d = np.array([[[1, 2, 3], [4, 5, 6]], [[7, 8, 9], [10, 11, 12]]])\n",
        "print(\"Original 3D Array:\\n\", arr_3d)\n",
        "\n",
        "# Reshape the array to (3, 2, 2)\n",
        "reshaped_3d = arr_3d.reshape(3, 2, 2)\n",
        "print(\"Reshaped 3D Array (3x2x2):\\n\", reshaped_3d)\n",
        "\n",
        "# Splitting the 3D array\n",
        "split_3d = np.array_split(arr_3d, 2)\n",
        "print(\"Split 3D Array (2 parts):\\n\", split_3d)\n",
        "\n"
      ],
      "metadata": {
        "colab": {
          "base_uri": "https://localhost:8080/"
        },
        "id": "ihzRPcKT9DUi",
        "outputId": "f77d75ef-8357-47cf-d119-7fe8ce9cacc4"
      },
      "execution_count": null,
      "outputs": [
        {
          "output_type": "stream",
          "name": "stdout",
          "text": [
            "Original 3D Array:\n",
            " [[[ 1  2  3]\n",
            "  [ 4  5  6]]\n",
            "\n",
            " [[ 7  8  9]\n",
            "  [10 11 12]]]\n",
            "Reshaped 3D Array (3x2x2):\n",
            " [[[ 1  2]\n",
            "  [ 3  4]]\n",
            "\n",
            " [[ 5  6]\n",
            "  [ 7  8]]\n",
            "\n",
            " [[ 9 10]\n",
            "  [11 12]]]\n",
            "Split 3D Array (2 parts):\n",
            " [array([[[1, 2, 3],\n",
            "        [4, 5, 6]]]), array([[[ 7,  8,  9],\n",
            "        [10, 11, 12]]])]\n"
          ]
        }
      ]
    },
    {
      "cell_type": "markdown",
      "source": [
        "#Arithmetic operation on Arrays"
      ],
      "metadata": {
        "id": "i19-mAnz9Ys_"
      }
    },
    {
      "cell_type": "markdown",
      "source": [
        "in 1-D array"
      ],
      "metadata": {
        "id": "eSgGy1KQ9sUF"
      }
    },
    {
      "cell_type": "code",
      "source": [
        "\n",
        "\n",
        "# Create two 1D arrays\n",
        "arr1 = np.array([1, 2, 3, 4])\n",
        "arr2 = np.array([5, 6, 7, 8])\n",
        "\n",
        "# Addition\n",
        "add_result = arr1 + arr2\n",
        "print(\"1D Addition:\", add_result)\n",
        "\n",
        "# Subtraction\n",
        "sub_result = arr1 - arr2\n",
        "print(\"1D Subtraction:\", sub_result)\n",
        "\n",
        "# Multiplication\n",
        "mul_result = arr1 * arr2\n",
        "print(\"1D Multiplication:\", mul_result)\n",
        "\n",
        "# Division\n",
        "div_result = arr1 / arr2\n",
        "print(\"1D Division:\", div_result)\n"
      ],
      "metadata": {
        "colab": {
          "base_uri": "https://localhost:8080/"
        },
        "id": "zrxHGFce9eeb",
        "outputId": "d4410db7-6909-476a-c9a0-8d95e844fc29"
      },
      "execution_count": null,
      "outputs": [
        {
          "output_type": "stream",
          "name": "stdout",
          "text": [
            "1D Addition: [ 6  8 10 12]\n",
            "1D Subtraction: [-4 -4 -4 -4]\n",
            "1D Multiplication: [ 5 12 21 32]\n",
            "1D Division: [0.2        0.33333333 0.42857143 0.5       ]\n"
          ]
        }
      ]
    },
    {
      "cell_type": "markdown",
      "source": [
        "in 2-D array"
      ],
      "metadata": {
        "id": "8rp7oqNO9wNJ"
      }
    },
    {
      "cell_type": "code",
      "source": [
        "# Create two 2D arrays\n",
        "arr1 = np.array([[1, 2], [3, 4]])\n",
        "arr2 = np.array([[5, 6], [7, 8]])\n",
        "\n",
        "# Addition\n",
        "add_result = arr1 + arr2\n",
        "print(\"2D Addition:\\n\", add_result)\n",
        "\n",
        "# Multiplication\n",
        "mul_result = arr1 * arr2\n",
        "print(\"2D Multiplication:\\n\", mul_result)\n"
      ],
      "metadata": {
        "colab": {
          "base_uri": "https://localhost:8080/"
        },
        "id": "LjzyVEI49zAA",
        "outputId": "fdd2af23-9953-41df-af1a-27eb93e685a3"
      },
      "execution_count": null,
      "outputs": [
        {
          "output_type": "stream",
          "name": "stdout",
          "text": [
            "2D Addition:\n",
            " [[ 6  8]\n",
            " [10 12]]\n",
            "2D Multiplication:\n",
            " [[ 5 12]\n",
            " [21 32]]\n"
          ]
        }
      ]
    },
    {
      "cell_type": "markdown",
      "source": [
        "in 3-D array"
      ],
      "metadata": {
        "id": "Ce6Z3h-395bJ"
      }
    },
    {
      "cell_type": "code",
      "source": [
        "# Create two 3D arrays\n",
        "arr1 = np.array([[[1, 2], [3, 4]], [[5, 6], [7, 8]]])\n",
        "arr2 = np.array([[[9, 10], [11, 12]], [[13, 14], [15, 16]]])\n",
        "\n",
        "# Addition\n",
        "add_result = arr1 + arr2\n",
        "print(\"3D Addition:\\n\", add_result)\n"
      ],
      "metadata": {
        "colab": {
          "base_uri": "https://localhost:8080/"
        },
        "id": "7D2DBX3898VH",
        "outputId": "d3306f2f-3e39-4c62-9680-695ed0d5ef5f"
      },
      "execution_count": null,
      "outputs": [
        {
          "output_type": "stream",
          "name": "stdout",
          "text": [
            "3D Addition:\n",
            " [[[10 12]\n",
            "  [14 16]]\n",
            "\n",
            " [[18 20]\n",
            "  [22 24]]]\n"
          ]
        }
      ]
    },
    {
      "cell_type": "markdown",
      "source": [
        "#Slicing in Arrays"
      ],
      "metadata": {
        "id": "Sr1FncH9-B3E"
      }
    },
    {
      "cell_type": "markdown",
      "source": [
        "in 1,2,3-D arrays"
      ],
      "metadata": {
        "id": "2h6XWSAz-YKC"
      }
    },
    {
      "cell_type": "code",
      "source": [
        "# One-Dimensional (1D) Array\n",
        "arr1d = np.array([10, 20, 30, 40, 50, 60])\n",
        "print(\"1D Slice [1:4]:\", arr1d[1:4])\n",
        "print(\"1D Slice with step 2:\", arr1d[::2])\n",
        "\n",
        "# Two-Dimensional (2D) Array\n",
        "arr2d = np.array([[1, 2, 3], [4, 5, 6], [7, 8, 9]])\n",
        "print(\"2D Slice (Rows 0-1, Columns 1-2):\\n\", arr2d[0:2, 1:3])\n",
        "print(\"2D Slice (First Column):\", arr2d[:, 0])\n",
        "\n",
        "# Three-Dimensional (3D) Array\n",
        "arr3d = np.array([[[1, 2, 3], [4, 5, 6]], [[7, 8, 9], [10, 11, 12]]])\n",
        "print(\"3D Slice (First set, Columns 1-2):\\n\", arr3d[0, :, 1:3])\n",
        "print(\"3D Slice (First Rows of all Depths):\\n\", arr3d[:, 0, :])\n"
      ],
      "metadata": {
        "colab": {
          "base_uri": "https://localhost:8080/"
        },
        "id": "oY3a-pAd-bTG",
        "outputId": "900700cd-f015-4bd7-9b36-6bfe803b37a5"
      },
      "execution_count": null,
      "outputs": [
        {
          "output_type": "stream",
          "name": "stdout",
          "text": [
            "1D Slice [1:4]: [20 30 40]\n",
            "1D Slice with step 2: [10 30 50]\n",
            "2D Slice (Rows 0-1, Columns 1-2):\n",
            " [[2 3]\n",
            " [5 6]]\n",
            "2D Slice (First Column): [1 4 7]\n",
            "3D Slice (First set, Columns 1-2):\n",
            " [[2 3]\n",
            " [5 6]]\n",
            "3D Slice (First Rows of all Depths):\n",
            " [[1 2 3]\n",
            " [7 8 9]]\n"
          ]
        }
      ]
    },
    {
      "cell_type": "markdown",
      "source": [
        "#Shape Manipulation"
      ],
      "metadata": {
        "id": "zqok31ku-tIj"
      }
    },
    {
      "cell_type": "code",
      "source": [
        "# One-Dimensional (1D) Array\n",
        "arr1d = np.array([1, 2, 3, 4, 5, 6])\n",
        "\n",
        "# Reshape 1D to 2D (3 rows, 2 columns)\n",
        "reshaped_1d = arr1d.reshape(3, 2)\n",
        "print(\"Reshaped 1D to 2D (3x2):\\n\", reshaped_1d)\n",
        "\n",
        "# Two-Dimensional (2D) Array\n",
        "arr2d = np.array([[1, 2, 3], [4, 5, 6]])\n",
        "\n",
        "# Transpose 2D array\n",
        "transposed_2d = arr2d.T\n",
        "print(\"Transpose of 2D Array:\\n\", transposed_2d)\n",
        "\n",
        "# Flatten 2D array to 1D\n",
        "flattened_2d = arr2d.flatten()\n",
        "print(\"Flattened 2D to 1D:\", flattened_2d)\n",
        "\n",
        "# Three-Dimensional (3D) Array\n",
        "arr3d = np.array([[[1, 2], [3, 4]], [[5, 6], [7, 8]]])\n",
        "\n",
        "# Reshape 3D array to (4, 1, 2)\n",
        "reshaped_3d = arr3d.reshape(4, 1, 2)\n",
        "print(\"Reshaped 3D to (4x1x2):\\n\", reshaped_3d)\n",
        "\n",
        "\n"
      ],
      "metadata": {
        "colab": {
          "base_uri": "https://localhost:8080/"
        },
        "id": "m_dF2g7G_ed8",
        "outputId": "25e36de9-08a8-458c-def7-947cd25e95a7"
      },
      "execution_count": null,
      "outputs": [
        {
          "output_type": "stream",
          "name": "stdout",
          "text": [
            "Reshaped 1D to 2D (3x2):\n",
            " [[1 2]\n",
            " [3 4]\n",
            " [5 6]]\n",
            "Transpose of 2D Array:\n",
            " [[1 4]\n",
            " [2 5]\n",
            " [3 6]]\n",
            "Flattened 2D to 1D: [1 2 3 4 5 6]\n",
            "Reshaped 3D to (4x1x2):\n",
            " [[[1 2]]\n",
            "\n",
            " [[3 4]]\n",
            "\n",
            " [[5 6]]\n",
            "\n",
            " [[7 8]]]\n"
          ]
        }
      ]
    }
  ]
}