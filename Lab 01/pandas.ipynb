{
  "nbformat": 4,
  "nbformat_minor": 0,
  "metadata": {
    "colab": {
      "provenance": []
    },
    "kernelspec": {
      "name": "python3",
      "display_name": "Python 3"
    },
    "language_info": {
      "name": "python"
    }
  },
  "cells": [
    {
      "cell_type": "markdown",
      "source": [
        "#1. Importing Data"
      ],
      "metadata": {
        "id": "0WFQaRyiCIBA"
      }
    },
    {
      "cell_type": "code",
      "execution_count": null,
      "metadata": {
        "id": "oP-j7XU0_8lX"
      },
      "outputs": [],
      "source": [
        "import pandas as pd\n",
        "\n",
        "# Load data from a CSV file\n",
        "data = pd.read_csv('/content/corporate_stress_dataset.csv')  # Replace with your file path\n"
      ]
    },
    {
      "cell_type": "markdown",
      "source": [
        "#2. Cleaning the Data"
      ],
      "metadata": {
        "id": "2gZdhIqECSmC"
      }
    },
    {
      "cell_type": "code",
      "source": [
        "# Display basic info\n",
        "print(data.info())\n",
        "\n",
        "# Handle missing values\n",
        "data.dropna(inplace=True)  # Drop rows with missing values\n",
        "# OR fill missing values\n",
        "data.fillna({'Stress Level': 0, 'Manager Support': 'Unknown'}, inplace=True)\n",
        "\n",
        "# Remove duplicates\n",
        "data.drop_duplicates(inplace=True)\n"
      ],
      "metadata": {
        "colab": {
          "base_uri": "https://localhost:8080/"
        },
        "id": "_mwEX8ZJCWqv",
        "outputId": "56e800ad-e400-43e3-fff5-827fc05bbd69"
      },
      "execution_count": null,
      "outputs": [
        {
          "output_type": "stream",
          "name": "stdout",
          "text": [
            "<class 'pandas.core.frame.DataFrame'>\n",
            "RangeIndex: 50000 entries, 0 to 49999\n",
            "Data columns (total 30 columns):\n",
            " #   Column                            Non-Null Count  Dtype  \n",
            "---  ------                            --------------  -----  \n",
            " 0   ID                                50000 non-null  int64  \n",
            " 1   Age                               50000 non-null  int64  \n",
            " 2   Gender                            50000 non-null  object \n",
            " 3   Marital_Status                    50000 non-null  object \n",
            " 4   Job_Role                          50000 non-null  object \n",
            " 5   Experience_Years                  50000 non-null  int64  \n",
            " 6   Monthly_Salary_INR                50000 non-null  float64\n",
            " 7   Working_Hours_per_Week            50000 non-null  int64  \n",
            " 8   Commute_Time_Hours                50000 non-null  float64\n",
            " 9   Remote_Work                       50000 non-null  bool   \n",
            " 10  Stress_Level                      50000 non-null  int64  \n",
            " 11  Health_Issues                     37459 non-null  object \n",
            " 12  Company_Size                      50000 non-null  object \n",
            " 13  Department                        50000 non-null  object \n",
            " 14  Sleep_Hours                       50000 non-null  float64\n",
            " 15  Physical_Activity_Hours_per_Week  50000 non-null  float64\n",
            " 16  Mental_Health_Leave_Taken         50000 non-null  bool   \n",
            " 17  Manager_Support_Level             50000 non-null  int64  \n",
            " 18  Work_Pressure_Level               50000 non-null  int64  \n",
            " 19  Annual_Leaves_Taken               50000 non-null  int64  \n",
            " 20  Work_Life_Balance                 50000 non-null  int64  \n",
            " 21  Family_Support_Level              50000 non-null  int64  \n",
            " 22  Job_Satisfaction                  50000 non-null  int64  \n",
            " 23  Performance_Rating                50000 non-null  int64  \n",
            " 24  Team_Size                         50000 non-null  int64  \n",
            " 25  Training_Opportunities            50000 non-null  bool   \n",
            " 26  Gender_Bias_Experienced           50000 non-null  bool   \n",
            " 27  Discrimination_Experienced        50000 non-null  bool   \n",
            " 28  Burnout_Symptoms                  50000 non-null  object \n",
            " 29  Location                          50000 non-null  object \n",
            "dtypes: bool(5), float64(4), int64(13), object(8)\n",
            "memory usage: 9.8+ MB\n",
            "None\n"
          ]
        }
      ]
    },
    {
      "cell_type": "markdown",
      "source": [
        "#3. Selection and Indexing"
      ],
      "metadata": {
        "id": "u39HdwNRCbI9"
      }
    },
    {
      "cell_type": "code",
      "source": [
        "# Clean column names: lowercase and replace spaces with underscores\n",
        "data.columns = data.columns.str.lower().str.replace(' ', '_')\n",
        "\n",
        "# Select specific columns\n",
        "selected_columns = data[['age', 'gender', 'stress_level']]\n",
        "print(\"Selected Columns:\")\n",
        "print(selected_columns)\n",
        "\n",
        "# Select rows using condition (e.g., stress level greater than 7)\n",
        "high_stress = data[data['stress_level'] > 7]\n",
        "print(\"\\nRows with Stress Level > 7:\")\n",
        "print(high_stress)\n",
        "\n",
        "# Select rows by index (e.g., rows 10 to 20)\n",
        "row_selection = data.iloc[10:20]\n",
        "print(\"\\nRows 10 to 20:\")\n",
        "print(row_selection)\n"
      ],
      "metadata": {
        "colab": {
          "base_uri": "https://localhost:8080/"
        },
        "id": "yymCyGqqCgB3",
        "outputId": "a0c760d7-8f5d-4474-c6bf-d1eca9378c56"
      },
      "execution_count": null,
      "outputs": [
        {
          "output_type": "stream",
          "name": "stdout",
          "text": [
            "Selected Columns:\n",
            "       age      gender  stress_level\n",
            "2       32      Female             7\n",
            "3       60      Female             6\n",
            "4       25        Male             8\n",
            "5       38  Non-Binary             2\n",
            "6       56  Non-Binary             4\n",
            "...    ...         ...           ...\n",
            "49995   43      Female             0\n",
            "49996   45        Male             1\n",
            "49997   43      Female             6\n",
            "49998   62        Male             4\n",
            "49999   19      Female             9\n",
            "\n",
            "[37459 rows x 3 columns]\n",
            "\n",
            "Rows with Stress Level > 7:\n",
            "          id  age      gender marital_status job_role  experience_years  \\\n",
            "4          5   25        Male        Married    Sales                29   \n",
            "9         10   28        Male       Divorced  Support                31   \n",
            "11        12   41        Male       Divorced  Manager                11   \n",
            "12        13   53      Female       Divorced  Analyst                 3   \n",
            "14        15   41      Female        Widowed  Support                10   \n",
            "...      ...  ...         ...            ...      ...               ...   \n",
            "49976  49977   38  Non-Binary        Married  Manager                28   \n",
            "49977  49978   20        Male         Single       HR                28   \n",
            "49984  49985   21      Female         Single  Manager                30   \n",
            "49986  49987   60      Female       Divorced  Support                23   \n",
            "49999  50000   19      Female       Divorced  Manager                 0   \n",
            "\n",
            "       monthly_salary_inr  working_hours_per_week  commute_time_hours  \\\n",
            "4               174597.45                      63                1.45   \n",
            "9                85163.20                      56                1.91   \n",
            "11               72373.38                      67                0.07   \n",
            "12              130305.44                      37                0.13   \n",
            "14              196157.07                      52                2.59   \n",
            "...                   ...                     ...                 ...   \n",
            "49976           120682.96                      89                2.24   \n",
            "49977            80995.30                      68                1.92   \n",
            "49984           185129.75                      80                2.11   \n",
            "49986            94997.12                      89                2.57   \n",
            "49999            31783.31                      50                2.52   \n",
            "\n",
            "       remote_work  ...  work_life_balance family_support_level  \\\n",
            "4             True  ...                  3                    1   \n",
            "9             True  ...                 10                    9   \n",
            "11           False  ...                  8                    3   \n",
            "12            True  ...                  9                    1   \n",
            "14            True  ...                  9                    2   \n",
            "...            ...  ...                ...                  ...   \n",
            "49976         True  ...                  2                    5   \n",
            "49977         True  ...                  2                    9   \n",
            "49984        False  ...                  2                    7   \n",
            "49986         True  ...                  2                    9   \n",
            "49999         True  ...                 10                    6   \n",
            "\n",
            "      job_satisfaction performance_rating  team_size  training_opportunities  \\\n",
            "4                    9                  2         85                    True   \n",
            "9                    0                  9         48                    True   \n",
            "11                   9                  2          1                   False   \n",
            "12                   7                  4         92                   False   \n",
            "14                   1                  7         93                   False   \n",
            "...                ...                ...        ...                     ...   \n",
            "49976                4                  5         68                    True   \n",
            "49977                2                  7         95                   False   \n",
            "49984                8                  3         60                    True   \n",
            "49986                0                  3         71                   False   \n",
            "49999                6                  1         50                    True   \n",
            "\n",
            "       gender_bias_experienced  discrimination_experienced  burnout_symptoms  \\\n",
            "4                        False                       False                No   \n",
            "9                         True                       False               Yes   \n",
            "11                        True                        True               Yes   \n",
            "12                       False                        True               Yes   \n",
            "14                        True                        True                No   \n",
            "...                        ...                         ...               ...   \n",
            "49976                     True                       False               Yes   \n",
            "49977                    False                        True                No   \n",
            "49984                    False                       False                No   \n",
            "49986                    False                        True                No   \n",
            "49999                     True                       False                No   \n",
            "\n",
            "       location  \n",
            "4        Tier-1  \n",
            "9        Tier-3  \n",
            "11       Tier-3  \n",
            "12       Tier-3  \n",
            "14       Tier-1  \n",
            "...         ...  \n",
            "49976    Tier-3  \n",
            "49977     Metro  \n",
            "49984     Metro  \n",
            "49986     Metro  \n",
            "49999    Tier-1  \n",
            "\n",
            "[10128 rows x 30 columns]\n",
            "\n",
            "Rows 10 to 20:\n",
            "    id  age      gender marital_status   job_role  experience_years  \\\n",
            "14  15   41      Female        Widowed    Support                10   \n",
            "15  16   20        Male        Widowed    Analyst                35   \n",
            "17  18   19  Non-Binary        Married    Manager                23   \n",
            "18  19   41  Non-Binary       Divorced    Support                32   \n",
            "19  20   61  Non-Binary        Widowed  Developer                27   \n",
            "21  22   55  Non-Binary        Married  Developer                 3   \n",
            "22  23   19  Non-Binary       Divorced    Support                11   \n",
            "23  24   38      Female        Married    Support                15   \n",
            "24  25   50        Male        Married  Developer                11   \n",
            "26  27   39  Non-Binary         Single      Sales                25   \n",
            "\n",
            "    monthly_salary_inr  working_hours_per_week  commute_time_hours  \\\n",
            "14           196157.07                      52                2.59   \n",
            "15           154602.95                      63                2.33   \n",
            "17            83436.04                      60                1.78   \n",
            "18            51978.12                      88                1.29   \n",
            "19            93569.73                      43                2.06   \n",
            "21           194433.13                      36                2.93   \n",
            "22            33821.79                      65                0.17   \n",
            "23           193129.33                      67                0.39   \n",
            "24           173803.77                      74                0.28   \n",
            "26           164005.11                      50                0.18   \n",
            "\n",
            "    remote_work  ...  work_life_balance family_support_level job_satisfaction  \\\n",
            "14         True  ...                  9                    2                1   \n",
            "15        False  ...                  2                    0                1   \n",
            "17        False  ...                  5                    7                8   \n",
            "18         True  ...                  2                    4                5   \n",
            "19         True  ...                  8                    4                3   \n",
            "21        False  ...                  2                    3               10   \n",
            "22         True  ...                 10                    9                2   \n",
            "23         True  ...                  3                    8                5   \n",
            "24         True  ...                  7                    9                4   \n",
            "26        False  ...                  1                    1                3   \n",
            "\n",
            "   performance_rating  team_size  training_opportunities  \\\n",
            "14                  7         93                   False   \n",
            "15                  7         25                    True   \n",
            "17                  7         87                   False   \n",
            "18                  5         49                    True   \n",
            "19                  3         81                   False   \n",
            "21                  2         92                    True   \n",
            "22                  3         96                   False   \n",
            "23                  0         10                   False   \n",
            "24                  6         96                   False   \n",
            "26                 10         34                    True   \n",
            "\n",
            "    gender_bias_experienced  discrimination_experienced  burnout_symptoms  \\\n",
            "14                     True                        True                No   \n",
            "15                    False                        True        Occasional   \n",
            "17                    False                        True                No   \n",
            "18                    False                       False               Yes   \n",
            "19                     True                       False        Occasional   \n",
            "21                     True                        True        Occasional   \n",
            "22                    False                        True        Occasional   \n",
            "23                    False                        True        Occasional   \n",
            "24                    False                        True        Occasional   \n",
            "26                     True                       False        Occasional   \n",
            "\n",
            "    location  \n",
            "14    Tier-1  \n",
            "15     Metro  \n",
            "17    Tier-2  \n",
            "18    Tier-3  \n",
            "19    Tier-3  \n",
            "21    Tier-2  \n",
            "22    Tier-2  \n",
            "23     Metro  \n",
            "24    Tier-2  \n",
            "26    Tier-3  \n",
            "\n",
            "[10 rows x 30 columns]\n"
          ]
        }
      ]
    },
    {
      "cell_type": "markdown",
      "source": [
        "#4. Grouping and Aggregation"
      ],
      "metadata": {
        "id": "5eSV3fkdDNh0"
      }
    },
    {
      "cell_type": "code",
      "source": [
        "# Clean column names: lowercase and replace spaces with underscores\n",
        "data.columns = data.columns.str.lower().str.replace(' ', '_')\n",
        "\n",
        "# Group by 'gender' and calculate the mean stress level\n",
        "gender_group = data.groupby('gender')['stress_level'].mean()\n",
        "print(\"Average Stress Level by Gender:\")\n",
        "print(gender_group)\n",
        "\n",
        "# Group by 'job_role' and count the number of employees in each job role\n",
        "role_count = data.groupby('job_role').size()\n",
        "print(\"\\nEmployee Count by Job Role:\")\n",
        "print(role_count)\n",
        "\n",
        "# Group by multiple columns (e.g., 'gender' and 'job_role') and calculate the mean stress level\n",
        "multi_group = data.groupby(['gender', 'job_role'])['stress_level'].mean()\n",
        "print(\"\\nAverage Stress Level by Gender and Job Role:\")\n",
        "print(multi_group)\n"
      ],
      "metadata": {
        "colab": {
          "base_uri": "https://localhost:8080/"
        },
        "id": "iOplPpM5DKPX",
        "outputId": "3c011dc3-149c-4148-9f60-d909f2127165"
      },
      "execution_count": null,
      "outputs": [
        {
          "output_type": "stream",
          "name": "stdout",
          "text": [
            "Average Stress Level by Gender:\n",
            "gender\n",
            "Female        4.974515\n",
            "Male          5.016258\n",
            "Non-Binary    4.999355\n",
            "Name: stress_level, dtype: float64\n",
            "\n",
            "Employee Count by Job Role:\n",
            "job_role\n",
            "Analyst      6196\n",
            "Developer    6221\n",
            "HR           6205\n",
            "Manager      6349\n",
            "Sales        6307\n",
            "Support      6181\n",
            "dtype: int64\n",
            "\n",
            "Average Stress Level by Gender and Job Role:\n",
            "gender      job_role \n",
            "Female      Analyst      4.868860\n",
            "            Developer    4.989474\n",
            "            HR           4.930765\n",
            "            Manager      4.951255\n",
            "            Sales        5.031534\n",
            "            Support      5.073321\n",
            "Male        Analyst      4.964639\n",
            "            Developer    5.081144\n",
            "            HR           5.052114\n",
            "            Manager      5.059551\n",
            "            Sales        4.923720\n",
            "            Support      5.012219\n",
            "Non-Binary  Analyst      5.056623\n",
            "            Developer    5.013507\n",
            "            HR           4.982547\n",
            "            Manager      4.941261\n",
            "            Sales        4.909258\n",
            "            Support      5.104404\n",
            "Name: stress_level, dtype: float64\n"
          ]
        }
      ]
    },
    {
      "cell_type": "markdown",
      "source": [
        "#5. Sorting and Filtering"
      ],
      "metadata": {
        "id": "Am6ETwpdDk63"
      }
    },
    {
      "cell_type": "code",
      "source": [
        "# Clean column names: lowercase and replace spaces with underscores\n",
        "data.columns = data.columns.str.lower().str.replace(' ', '_')\n",
        "\n",
        "# Print columns to check available column names\n",
        "print(\"Column names in the dataset:\", data.columns)\n",
        "\n",
        "# Sort by 'stress_level' in descending order\n",
        "sorted_data = data.sort_values(by='stress_level', ascending=False)\n",
        "print(\"Sorted Data by Stress Level (Descending):\")\n",
        "print(sorted_data[['age', 'gender', 'stress_level']].head())  # Display first 5 rows\n",
        "\n",
        "# Filter rows where 'working_hours' is greater than 10 (use the correct column name)\n",
        "# Ensure 'working_hours' exists in the dataset\n",
        "if 'working_hours' in data.columns:\n",
        "    long_hours = data[data['working_hours'] > 10]\n",
        "    print(\"\\nRows with Working Hours > 10:\")\n",
        "    print(long_hours[['age', 'job_role', 'working_hours', 'stress_level']].head())  # Display first 5 rows\n",
        "else:\n",
        "    print(\"\\n'working_hours' column is not found in the dataset.\")\n",
        "\n",
        "# Filter rows where 'stress_level' > 7 and 'gender' is 'Female'\n",
        "high_stress_female = data[(data['stress_level'] > 7) & (data['gender'] == 'Female')]\n",
        "print(\"\\nHigh Stress Female Employees:\")\n",
        "print(high_stress_female[['age', 'job_role', 'stress_level', 'gender']].head())  # Display first 5 rows\n",
        "\n",
        "\n"
      ],
      "metadata": {
        "colab": {
          "base_uri": "https://localhost:8080/"
        },
        "id": "gd7AwnnWDmKg",
        "outputId": "da07cc96-63eb-4a93-bc7f-7739be77b4e0"
      },
      "execution_count": null,
      "outputs": [
        {
          "output_type": "stream",
          "name": "stdout",
          "text": [
            "Column names in the dataset: Index(['id', 'age', 'gender', 'marital_status', 'job_role', 'experience_years',\n",
            "       'monthly_salary_inr', 'working_hours_per_week', 'commute_time_hours',\n",
            "       'remote_work', 'stress_level', 'health_issues', 'company_size',\n",
            "       'department', 'sleep_hours', 'physical_activity_hours_per_week',\n",
            "       'mental_health_leave_taken', 'manager_support_level',\n",
            "       'work_pressure_level', 'annual_leaves_taken', 'work_life_balance',\n",
            "       'family_support_level', 'job_satisfaction', 'performance_rating',\n",
            "       'team_size', 'training_opportunities', 'gender_bias_experienced',\n",
            "       'discrimination_experienced', 'burnout_symptoms', 'location'],\n",
            "      dtype='object')\n",
            "Sorted Data by Stress Level (Descending):\n",
            "       age      gender  stress_level\n",
            "16510   29        Male            10\n",
            "27950   20  Non-Binary            10\n",
            "27866   48        Male            10\n",
            "27870   54        Male            10\n",
            "27873   34      Female            10\n",
            "\n",
            "'working_hours' column is not found in the dataset.\n",
            "\n",
            "High Stress Female Employees:\n",
            "    age   job_role  stress_level  gender\n",
            "12   53    Analyst             9  Female\n",
            "14   41    Support             8  Female\n",
            "23   38    Support             9  Female\n",
            "32   33  Developer             9  Female\n",
            "58   34         HR            10  Female\n"
          ]
        }
      ]
    },
    {
      "cell_type": "markdown",
      "source": [
        "#6. Merging and Joining"
      ],
      "metadata": {
        "id": "9KKuTCA4EW_7"
      }
    },
    {
      "cell_type": "code",
      "source": [
        "import pandas as pd\n",
        "import os\n",
        "\n",
        "# Define the path to the health survey dataset\n",
        "file_path = '/content/corporate_stress_dataset.csv'\n",
        "\n",
        "# Check if the file exists\n",
        "if os.path.exists(file_path):\n",
        "    # Load the health data\n",
        "    health_data = pd.read_csv(file_path)\n",
        "\n",
        "    # Print column names to check for employee ID column\n",
        "    print(\"Columns in health_data:\", health_data.columns)\n",
        "    print(\"Columns in main data:\", data.columns)\n",
        "\n",
        "    # Ensure the column name is correct\n",
        "    if 'employee_id' in data.columns and 'employee_id' in health_data.columns:\n",
        "        # Merge with the original dataset on 'employee_id'\n",
        "        merged_data = pd.merge(data, health_data, on='employee_id')\n",
        "        print(\"Merged Data:\")\n",
        "        print(merged_data.head())  # Display first 5 rows of the merged dataset\n",
        "    else:\n",
        "        print(\"Error: 'employee_id' column is missing in one of the datasets.\")\n",
        "else:\n",
        "    print(f\"Error: The file '{file_path}' does not exist. Please check the file path.\")\n",
        "\n"
      ],
      "metadata": {
        "colab": {
          "base_uri": "https://localhost:8080/"
        },
        "id": "pWz9KFEJEcUe",
        "outputId": "7e4f3136-6ce9-45ba-b4e3-f58ab3b64edc"
      },
      "execution_count": null,
      "outputs": [
        {
          "output_type": "stream",
          "name": "stdout",
          "text": [
            "Columns in health_data: Index(['ID', 'Age', 'Gender', 'Marital_Status', 'Job_Role', 'Experience_Years',\n",
            "       'Monthly_Salary_INR', 'Working_Hours_per_Week', 'Commute_Time_Hours',\n",
            "       'Remote_Work', 'Stress_Level', 'Health_Issues', 'Company_Size',\n",
            "       'Department', 'Sleep_Hours', 'Physical_Activity_Hours_per_Week',\n",
            "       'Mental_Health_Leave_Taken', 'Manager_Support_Level',\n",
            "       'Work_Pressure_Level', 'Annual_Leaves_Taken', 'Work_Life_Balance',\n",
            "       'Family_Support_Level', 'Job_Satisfaction', 'Performance_Rating',\n",
            "       'Team_Size', 'Training_Opportunities', 'Gender_Bias_Experienced',\n",
            "       'Discrimination_Experienced', 'Burnout_Symptoms', 'Location'],\n",
            "      dtype='object')\n",
            "Columns in main data: Index(['id', 'age', 'gender', 'marital_status', 'job_role', 'experience_years',\n",
            "       'monthly_salary_inr', 'working_hours_per_week', 'commute_time_hours',\n",
            "       'remote_work', 'stress_level', 'health_issues', 'company_size',\n",
            "       'department', 'sleep_hours', 'physical_activity_hours_per_week',\n",
            "       'mental_health_leave_taken', 'manager_support_level',\n",
            "       'work_pressure_level', 'annual_leaves_taken', 'work_life_balance',\n",
            "       'family_support_level', 'job_satisfaction', 'performance_rating',\n",
            "       'team_size', 'training_opportunities', 'gender_bias_experienced',\n",
            "       'discrimination_experienced', 'burnout_symptoms', 'location'],\n",
            "      dtype='object')\n",
            "Error: 'employee_id' column is missing in one of the datasets.\n"
          ]
        }
      ]
    },
    {
      "cell_type": "markdown",
      "source": [
        "#7. Statistical Operations"
      ],
      "metadata": {
        "id": "gXCptPfpFMRO"
      }
    },
    {
      "cell_type": "code",
      "source": [
        "\n",
        "\n",
        "# 1. Basic Statistical Summary\n",
        "# Summary statistics for numerical columns\n",
        "summary_stats = data.describe()\n",
        "print(\"Summary Statistics for Numerical Columns:\")\n",
        "print(summary_stats)\n",
        "\n",
        "# 2. Mean (Average) of a specific column\n",
        "mean_stress_level = data['stress_level'].mean()\n",
        "print(\"\\nMean Stress Level:\", mean_stress_level)\n",
        "\n",
        "# 3. Median (50th percentile) of a specific column\n",
        "median_stress_level = data['stress_level'].median()\n",
        "print(\"\\nMedian Stress Level:\", median_stress_level)\n",
        "\n",
        "# 4. Standard Deviation of a specific column\n",
        "std_stress_level = data['stress_level'].std()\n",
        "print(\"\\nStandard Deviation of Stress Level:\", std_stress_level)\n",
        "\n",
        "# 5. Variance of a specific column\n",
        "variance_stress_level = data['stress_level'].var()\n",
        "print(\"\\nVariance of Stress Level:\", variance_stress_level)\n",
        "\n",
        "\n",
        "# 6. Correlation between two numerical columns (e.g., 'stress_level' and 'working_hours_per_week')\n",
        "# Calculate correlation matrix\n",
        "correlation_matrix = data[['stress_level', 'working_hours_per_week']].corr()\n",
        "print(\"\\nCorrelation Matrix between Stress Level and Working Hours per Week:\")\n",
        "print(correlation_matrix)\n",
        "\n",
        "\n",
        "# 7. Grouping and Aggregation: Calculate mean stress level by gender\n",
        "mean_stress_by_gender = data.groupby('gender')['stress_level'].mean()\n",
        "print(\"\\nMean Stress Level by Gender:\")\n",
        "print(mean_stress_by_gender)\n",
        "\n",
        "# 8. Count of unique values in a column (e.g., 'gender')\n",
        "gender_counts = data['gender'].value_counts()\n",
        "print(\"\\nCount of Unique Values in Gender Column:\")\n",
        "print(gender_counts)\n",
        "\n",
        "# 9. Percentiles (e.g., 25th, 50th, 75th percentiles of stress level)\n",
        "percentiles = data['stress_level'].quantile([0.25, 0.5, 0.75])\n",
        "print(\"\\nPercentiles of Stress Level (25th, 50th, 75th):\")\n",
        "print(percentiles)\n"
      ],
      "metadata": {
        "colab": {
          "base_uri": "https://localhost:8080/"
        },
        "id": "bAlK76uqFd_W",
        "outputId": "4fed133d-8782-4b6c-f55d-0014a9b64ada"
      },
      "execution_count": null,
      "outputs": [
        {
          "output_type": "stream",
          "name": "stdout",
          "text": [
            "Summary Statistics for Numerical Columns:\n",
            "                 id           age  experience_years  monthly_salary_inr  \\\n",
            "count  37459.000000  37459.000000      37459.000000        37459.000000   \n",
            "mean   24989.110814     41.522998         20.133159       110131.472936   \n",
            "std    14453.116194     13.821568         11.798982        52030.374663   \n",
            "min        3.000000     18.000000          0.000000        20001.960000   \n",
            "25%    12505.500000     30.000000         10.000000        64928.230000   \n",
            "50%    24919.000000     41.000000         20.000000       110117.830000   \n",
            "75%    37466.500000     54.000000         30.000000       155316.350000   \n",
            "max    50000.000000     65.000000         40.000000       199992.800000   \n",
            "\n",
            "       working_hours_per_week  commute_time_hours  stress_level   sleep_hours  \\\n",
            "count            37459.000000        37459.000000  37459.000000  37459.000000   \n",
            "mean                62.588136            1.500934      4.996716      6.492755   \n",
            "std                 16.184921            0.868950      3.148226      1.435710   \n",
            "min                 35.000000            0.000000      0.000000      4.000000   \n",
            "25%                 49.000000            0.740000      2.000000      5.300000   \n",
            "50%                 63.000000            1.500000      5.000000      6.500000   \n",
            "75%                 77.000000            2.250000      8.000000      7.700000   \n",
            "max                 90.000000            3.000000     10.000000      9.000000   \n",
            "\n",
            "       physical_activity_hours_per_week  manager_support_level  \\\n",
            "count                      37459.000000           37459.000000   \n",
            "mean                           5.010681               5.011292   \n",
            "std                            2.881522               3.167374   \n",
            "min                            0.000000               0.000000   \n",
            "25%                            2.500000               2.000000   \n",
            "50%                            5.000000               5.000000   \n",
            "75%                            7.500000               8.000000   \n",
            "max                           10.000000              10.000000   \n",
            "\n",
            "       work_pressure_level  annual_leaves_taken  work_life_balance  \\\n",
            "count         37459.000000         37459.000000       37459.000000   \n",
            "mean              5.001281            15.048319           5.000080   \n",
            "std               3.159516             8.936891           3.160221   \n",
            "min               0.000000             0.000000           0.000000   \n",
            "25%               2.000000             7.000000           2.000000   \n",
            "50%               5.000000            15.000000           5.000000   \n",
            "75%               8.000000            23.000000           8.000000   \n",
            "max              10.000000            30.000000          10.000000   \n",
            "\n",
            "       family_support_level  job_satisfaction  performance_rating  \\\n",
            "count          37459.000000      37459.000000        37459.000000   \n",
            "mean               4.996850          4.985611            5.003871   \n",
            "std                3.167776          3.154955            3.175994   \n",
            "min                0.000000          0.000000            0.000000   \n",
            "25%                2.000000          2.000000            2.000000   \n",
            "50%                5.000000          5.000000            5.000000   \n",
            "75%                8.000000          8.000000            8.000000   \n",
            "max               10.000000         10.000000           10.000000   \n",
            "\n",
            "          team_size  \n",
            "count  37459.000000  \n",
            "mean      50.415895  \n",
            "std       28.983768  \n",
            "min        1.000000  \n",
            "25%       25.000000  \n",
            "50%       51.000000  \n",
            "75%       75.000000  \n",
            "max      100.000000  \n",
            "\n",
            "Mean Stress Level: 4.996716409941536\n",
            "\n",
            "Median Stress Level: 5.0\n",
            "\n",
            "Standard Deviation of Stress Level: 3.148226472052616\n",
            "\n",
            "Variance of Stress Level: 9.911329919332859\n",
            "\n",
            "Correlation Matrix between Stress Level and Working Hours per Week:\n",
            "                        stress_level  working_hours_per_week\n",
            "stress_level                1.000000               -0.003638\n",
            "working_hours_per_week     -0.003638                1.000000\n",
            "\n",
            "Mean Stress Level by Gender:\n",
            "gender\n",
            "Female        4.974515\n",
            "Male          5.016258\n",
            "Non-Binary    4.999355\n",
            "Name: stress_level, dtype: float64\n",
            "\n",
            "Count of Unique Values in Gender Column:\n",
            "gender\n",
            "Male          12548\n",
            "Female        12517\n",
            "Non-Binary    12394\n",
            "Name: count, dtype: int64\n",
            "\n",
            "Percentiles of Stress Level (25th, 50th, 75th):\n",
            "0.25    2.0\n",
            "0.50    5.0\n",
            "0.75    8.0\n",
            "Name: stress_level, dtype: float64\n"
          ]
        }
      ]
    },
    {
      "cell_type": "markdown",
      "source": [
        "#8. Visualization (Pandas-specific)"
      ],
      "metadata": {
        "id": "hg7VrhSgF7lD"
      }
    },
    {
      "cell_type": "code",
      "source": [
        "# Histogram of Stress Level using pandas\n",
        "data['stress_level'].plot(kind='hist', title='Stress Level Distribution', bins=10)\n",
        "\n",
        "# Boxplot for Stress Level by Gender using pandas\n",
        "data.boxplot(column='stress_level', by='gender', grid=False)\n",
        "\n",
        "\n"
      ],
      "metadata": {
        "colab": {
          "base_uri": "https://localhost:8080/",
          "height": 930
        },
        "id": "yp_eB0oTGDy8",
        "outputId": "9493b5b6-ecd1-47af-8454-4793a516ab5f"
      },
      "execution_count": null,
      "outputs": [
        {
          "output_type": "execute_result",
          "data": {
            "text/plain": [
              "<Axes: title={'center': 'stress_level'}, xlabel='gender'>"
            ]
          },
          "metadata": {},
          "execution_count": 18
        },
        {
          "output_type": "display_data",
          "data": {
            "text/plain": [
              "<Figure size 640x480 with 1 Axes>"
            ],
            "image/png": "[encoded data removed]"
          },
          "metadata": {}
        },
        {
          "output_type": "display_data",
          "data": {
            "text/plain": [
              "<Figure size 640x480 with 1 Axes>"
            ],
            "image/png": "[encoded data removed]"
          },
          "metadata": {}
        }
      ]
    }
  ]
}